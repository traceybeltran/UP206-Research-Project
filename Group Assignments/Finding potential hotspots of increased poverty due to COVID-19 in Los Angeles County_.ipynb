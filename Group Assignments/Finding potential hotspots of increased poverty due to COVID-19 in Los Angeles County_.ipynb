{
 "cells": [
  {
   "attachments": {},
   "cell_type": "markdown",
   "metadata": {
    "slideshow": {
     "slide_type": "slide"
    }
   },
   "source": [
    "# Can plotting poverty in Los Angeles County help identify potential hotspots of unemployment due to COVID-19?"
   ]
  },
  {
   "cell_type": "markdown",
   "metadata": {
    "slideshow": {
     "slide_type": "slide"
    }
   },
   "source": [
    "> In this notebook, I will examine various indicators of poverty to determine which neighborhoods might be impacted by job loss in Los Angeles County. <br /> \n",
    "<br /> I will look at: <br /> \n",
    "1. Unemployment rates\n",
    "2. Occupation and indusrty\n",
    "3. Poverty level\n",
    "4. Educational attainment\n",
    "\n"
   ]
  },
  {
   "attachments": {},
   "cell_type": "markdown",
   "metadata": {
    "slideshow": {
     "slide_type": "slide"
    }
   },
   "source": [
    "## Identifying My Data Sources\n",
    "\n",
    "-\tThe Census Bureau data from census reporter\n",
    "-\tThe California Employment Development Department\n",
    "-\tThe U.S. Bureau of Labor Statistics\n",
    "\n",
    "Each of these provided data by county level and census tract.\n",
    "\n",
    " Unfortunately, current data at the census tract for jobs loss isn't unavailable, but the LA Controllers office has created this tool to show estimates of job losses in each of L.A.’s neighborhoods!"
   ]
  },
  {
   "attachments": {},
   "cell_type": "markdown",
   "metadata": {
    "slideshow": {
     "slide_type": "subslide"
    }
   },
   "source": [
    "<center> <img src=\"July.png\" width=\"800\"> </center>\n"
   ]
  },
  {
   "cell_type": "markdown",
   "metadata": {
    "slideshow": {
     "slide_type": "slide"
    }
   },
   "source": [
    "## Data Analysis\n",
    "In the following slides, I will take a deeper look at data gathered by indicator."
   ]
  },
  {
   "cell_type": "markdown",
   "metadata": {
    "slideshow": {
     "slide_type": "slide"
    }
   },
   "source": [
    "### Unemployment Rate in LA County\n"
   ]
  },
  {
   "cell_type": "markdown",
   "metadata": {
    "slideshow": {
     "slide_type": "slide"
    }
   },
   "source": [
    "Pre COVID-19 unemployment rate\n",
    "\n",
    "<center> <img src=\"Unemploymentprecovid.png\" width=\"500\"> </center>"
   ]
  },
  {
   "cell_type": "markdown",
   "metadata": {
    "slideshow": {
     "slide_type": "slide"
    }
   },
   "source": [
    "\n",
    "<center> <img src=\"newplot (1).png\" width=\"1000\"> </center>"
   ]
  },
  {
   "cell_type": "markdown",
   "metadata": {
    "slideshow": {
     "slide_type": "slide"
    }
   },
   "source": [
    "### Industry and Occupation"
   ]
  },
  {
   "attachments": {},
   "cell_type": "markdown",
   "metadata": {
    "slideshow": {
     "slide_type": "slide"
    }
   },
   "source": [
    "I wanted to analyze industries and occupations. This can possibly give me an idea of the type of employees that experienced the most job loss from COVID-19 ordinances.\n",
    "\n",
    "1. I looked at the industries hit hardest by COVID-19.\n",
    "2. I looked at broader occupations to find census tracts with high percentages of individuals in these industries."
   ]
  },
  {
   "cell_type": "markdown",
   "metadata": {
    "slideshow": {
     "slide_type": "slide"
    }
   },
   "source": [
    "**Percent Change in Employment by Industry in Los Angeles County**\n",
    ">*From the The U.S. Bureau of Labor Statistics*\n",
    "    \n",
    "<img src=\"industry percent change.png\" width=\"500\"> \n"
   ]
  },
  {
   "cell_type": "markdown",
   "metadata": {
    "slideshow": {
     "slide_type": "slide"
    }
   },
   "source": [
    "Looking at industries by census tracts from previous years. Specifically the two industries with the most change in employment. \n",
    "1. Leisure and Hospitality                        \n",
    "2. Other Services\n",
    "<table><tr>\n",
    "<td> <img src=\"occupaccom.png\" width=\"600\"/></td>\n",
    "<td><img src=\"occupother.png\" width=\"600\"/></td>\n",
    "</tr></table>"
   ]
  },
  {
   "cell_type": "markdown",
   "metadata": {
    "slideshow": {
     "slide_type": "slide"
    }
   },
   "source": [
    "Looking at industries expanded potential areas to examine, so I decided to use census data that narrowed the categories to: \n",
    "1. Service Occupation\n",
    "2. Management, business, science, and arts occupations\n",
    "3. Sales and office\n",
    "4. Natural resources, construction, and maintenance occupations"
   ]
  },
  {
   "cell_type": "markdown",
   "metadata": {
    "slideshow": {
     "slide_type": "slide"
    }
   },
   "source": [
    "I created tables with this data."
   ]
  },
  {
   "cell_type": "markdown",
   "metadata": {
    "slideshow": {
     "slide_type": "slide"
    }
   },
   "source": [
    "\"Bad table\"\n",
    "I wanted to look at the breakdown of occupation by industry within census tracts. I decided to create a stacked chart and got this. \n",
    "\n",
    "<img src=\"badbarchartoccp.png\" width=\"600\"/>\n",
    "\n"
   ]
  },
  {
   "cell_type": "markdown",
   "metadata": {
    "slideshow": {
     "slide_type": "slide"
    }
   },
   "source": [
    "I tried to fix the chart above by sorting and trimming the data frame by only looking at the top 10 census tracts with service occupations.\n",
    "*Still haven't succeeded with the stacking\n",
    "\n",
    "<img src=\"barchartoccup.png\" width=\"600\"/>"
   ]
  },
  {
   "cell_type": "markdown",
   "metadata": {
    "slideshow": {
     "slide_type": "slide"
    }
   },
   "source": [
    "**I graphed the census tracts with over 25 % of Individuals with service jobs to get a better sense of the neighborhoods.**\n",
    "<img src=\"Occupation.png\" width=\"500\"/>\n"
   ]
  },
  {
   "cell_type": "markdown",
   "metadata": {
    "slideshow": {
     "slide_type": "slide"
    }
   },
   "source": [
    "I start to notice specific areas that might need further analysis to determine potential job loss. Now I want to look at some poverty indicators to see whats happening at a local level."
   ]
  },
  {
   "cell_type": "markdown",
   "metadata": {
    "slideshow": {
     "slide_type": "slide"
    }
   },
   "source": [
    "### Poverty Level "
   ]
  },
  {
   "cell_type": "markdown",
   "metadata": {
    "slideshow": {
     "slide_type": "slide"
    }
   },
   "source": [
    "I looked at top census tracts with individuals whose income in the past 12 months was below poverty level. Here I I dentify the income \n",
    "<img src=\"poverty.png\" width=\"400\"/>\n"
   ]
  },
  {
   "cell_type": "markdown",
   "metadata": {
    "slideshow": {
     "slide_type": "slide"
    }
   },
   "source": [
    "### Educational Attainment"
   ]
  },
  {
   "attachments": {},
   "cell_type": "markdown",
   "metadata": {
    "slideshow": {
     "slide_type": "slide"
    }
   },
   "source": [
    "Here I wanted to look at two variables, Less than High School Education and Graduate Degree. COVID-19 has reshaped the meaning of work. For the most part, the high skilled jobs can be remote, while less skilled jobs don't have the same option.\n",
    "\n",
    "\n",
    "<center><img src=\"LessthanHSandProfessional.png\" width=\"1500\"/></center>"
   ]
  },
  {
   "attachments": {},
   "cell_type": "markdown",
   "metadata": {
    "slideshow": {
     "slide_type": "slide"
    }
   },
   "source": [
    "## Next Steps\n",
    "\n",
    "> I want to narrow the area I examine. One start can be to look at a census tract with an unemployment rate of 17%. \n",
    "I also want to look at an indicator with current data showing increased poverty associated with job loss-- Calfresh Application data."
   ]
  },
  {
   "cell_type": "markdown",
   "metadata": {
    "slideshow": {
     "slide_type": "slide"
    }
   },
   "source": [
    "### Census tract with highest unemployment rate\n",
    "\n",
    "<center><img src=\"censustract.png\" width=\"1500\"/></center>"
   ]
  }
 ],
 "metadata": {
  "celltoolbar": "Slideshow",
  "kernelspec": {
   "display_name": "Python 3",
   "language": "python",
   "name": "python3"
  },
  "language_info": {
   "codemirror_mode": {
    "name": "ipython",
    "version": 3
   },
   "file_extension": ".py",
   "mimetype": "text/x-python",
   "name": "python",
   "nbconvert_exporter": "python",
   "pygments_lexer": "ipython3",
   "version": "3.8.5"
  },
  "toc": {
   "base_numbering": 1,
   "nav_menu": {},
   "number_sections": true,
   "sideBar": true,
   "skip_h1_title": false,
   "title_cell": "Table of Contents",
   "title_sidebar": "Contents",
   "toc_cell": false,
   "toc_position": {},
   "toc_section_display": true,
   "toc_window_display": false
  }
 },
 "nbformat": 4,
 "nbformat_minor": 4
}
