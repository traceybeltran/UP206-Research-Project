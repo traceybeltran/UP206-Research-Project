{
 "cells": [
  {
   "cell_type": "code",
   "execution_count": 4,
   "id": "alpha-norman",
   "metadata": {},
   "outputs": [
    {
     "name": "stderr",
     "output_type": "stream",
     "text": [
      "/opt/conda/lib/python3.8/site-packages/geopandas/_compat.py:106: UserWarning: The Shapely GEOS version (3.8.1-CAPI-1.13.3) is incompatible with the GEOS version PyGEOS was compiled with (3.9.0-CAPI-1.16.2). Conversions between both will be slow.\n",
      "  warnings.warn(\n"
     ]
    }
   ],
   "source": [
    "import pandas as pd\n",
    "import geopandas as gpd\n",
    "import folium\n",
    "import numpy as np\n",
    "\n",
    "import urllib.request, json \n",
    "import contextily as ctx\n",
    "import matplotlib.pyplot as plt\n",
    "import plotly.express as px\n",
    "import urllib.request, json \n",
    "import plotly.express as px\n",
    "import esda\n",
    "from esda.moran import Moran, Moran_Local\n",
    "import splot\n",
    "from splot.esda import moran_scatterplot, plot_moran, lisa_cluster,plot_moran_simulation\n",
    "import libpysal as lps\n",
    "import matplotlib.pyplot as plt\n",
    "import plotly.express as px\n",
    "from sodapy import Socrata\n",
    "import seaborn as sns\n",
    "from pointpats import centrography\n",
    "from matplotlib.patches import Ellipse\n",
    "import geopandas as gpd\n",
    "import matplotlib.pyplot as plt\n",
    "import pandas as pd\n",
    "import contextily as ctx\n",
    "from sodapy import Socrata\n",
    "import seaborn as sns\n",
    "from pointpats import centrography\n",
    "from matplotlib.patches import Ellipse\n",
    "\n",
    "import urllib.request, json \n",
    "import plotly.express as px\n",
    "import esda\n",
    "from esda.moran import Moran, Moran_Local\n",
    "import splot\n",
    "from splot.esda import moran_scatterplot, plot_moran, lisa_cluster,plot_moran_simulation\n",
    "import libpysal as lps\n",
    "import matplotlib.pyplot as plt\n",
    "import plotly.express as px"
   ]
  },
  {
   "cell_type": "code",
   "execution_count": 5,
   "id": "exclusive-courtesy",
   "metadata": {},
   "outputs": [],
   "source": [
    "df = pd.read_csv(\n",
    "    'Data/2006income.csv',\n",
    "    dtype=\n",
    "    {\n",
    "        'FIPS':str,\n",
    "        'State (FIPS)':str,\n",
    "        'County': str \n",
    "    }\n",
    ")"
   ]
  },
  {
   "cell_type": "code",
   "execution_count": 6,
   "id": "premier-setting",
   "metadata": {},
   "outputs": [],
   "source": [
    "#df = df.dropna() "
   ]
  },
  {
   "cell_type": "code",
   "execution_count": 7,
   "id": "greek-giving",
   "metadata": {
    "scrolled": true
   },
   "outputs": [
    {
     "name": "stdout",
     "output_type": "stream",
     "text": [
      "<class 'pandas.core.frame.DataFrame'>\n",
      "RangeIndex: 2347 entries, 0 to 2346\n",
      "Data columns (total 67 columns):\n",
      " #   Column                                                                                                                       Non-Null Count  Dtype \n",
      "---  ------                                                                                                                       --------------  ----- \n",
      " 0   FIPS                                                                                                                         2347 non-null   object\n",
      " 1   Name of Area                                                                                                                 2347 non-null   object\n",
      " 2   Qualifying Name                                                                                                              2347 non-null   object\n",
      " 3   State/U.S.-Abbreviation (USPS)                                                                                               2347 non-null   object\n",
      " 4   Summary Level                                                                                                                2347 non-null   object\n",
      " 5   Geographic Component                                                                                                         2347 non-null   object\n",
      " 6   File Identification                                                                                                          2347 non-null   object\n",
      " 7   Logical Record Number                                                                                                        2347 non-null   object\n",
      " 8   US                                                                                                                           1 non-null      object\n",
      " 9   Region                                                                                                                       1 non-null      object\n",
      " 10  Division                                                                                                                     1 non-null      object\n",
      " 11  State (Census Code)                                                                                                          1 non-null      object\n",
      " 12  State (FIPS)                                                                                                                 2347 non-null   object\n",
      " 13  County                                                                                                                       2347 non-null   object\n",
      " 14  County Subdivision (FIPS)                                                                                                    1 non-null      object\n",
      " 15  Place (FIPS Code)                                                                                                            1 non-null      object\n",
      " 16  Place (State FIPS + Place FIPS)                                                                                              1 non-null      object\n",
      " 17  Census Tract                                                                                                                 2347 non-null   object\n",
      " 18  Block Group                                                                                                                  1 non-null      object\n",
      " 19  Consolidated City                                                                                                            1 non-null      object\n",
      " 20  American Indian Area/Alaska Native Area/Hawaiian Home Land (Census)                                                          1 non-null      object\n",
      " 21  American Indian Area/Alaska Native Area/Hawaiian Home Land (FIPS)                                                            1 non-null      object\n",
      " 22  American Indian Trust Land/Hawaiian Home Land Indicator                                                                      1 non-null      object\n",
      " 23  American Indian Tribal Subdivision (Census)                                                                                  1 non-null      object\n",
      " 24  American Indian Tribal Subdivision (FIPS)                                                                                    1 non-null      object\n",
      " 25  Alaska Native Regional Corporation (FIPS)                                                                                    1 non-null      object\n",
      " 26  Metropolitan and Micropolitan Statistical Area                                                                               1 non-null      object\n",
      " 27  Combined Statistical Area                                                                                                    1 non-null      object\n",
      " 28  Metropolitan Division                                                                                                        1 non-null      object\n",
      " 29  Metropolitan Area Central City                                                                                               1 non-null      object\n",
      " 30  Metropolitan/Micropolitan Indicator Flag                                                                                     1 non-null      object\n",
      " 31  New England City and Town Combined Statistical Area                                                                          1 non-null      object\n",
      " 32  New England City and Town Area                                                                                               1 non-null      object\n",
      " 33  New England City and Town Area Division                                                                                      1 non-null      object\n",
      " 34  Urban Area                                                                                                                   1 non-null      object\n",
      " 35  Urban Area Central Place                                                                                                     1 non-null      object\n",
      " 36  Current Congressional District ***                                                                                           1 non-null      object\n",
      " 37  State Legislative District Upper                                                                                             1 non-null      object\n",
      " 38  State Legislative District Lower                                                                                             1 non-null      object\n",
      " 39  Voting District                                                                                                              1 non-null      object\n",
      " 40  ZIP Code Tabulation Area (3-digit)                                                                                           1 non-null      object\n",
      " 41  ZIP Code Tabulation Area (5-digit)                                                                                           1 non-null      object\n",
      " 42  Subbarrio (FIPS)                                                                                                             1 non-null      object\n",
      " 43  School District (Elementary)                                                                                                 1 non-null      object\n",
      " 44  School District (Secondary)                                                                                                  1 non-null      object\n",
      " 45  School District (Unified)                                                                                                    1 non-null      object\n",
      " 46  Urban/Rural                                                                                                                  1 non-null      object\n",
      " 47  Principal City Indicator                                                                                                     1 non-null      object\n",
      " 48  Traffic Analysis Zone                                                                                                        1 non-null      object\n",
      " 49  Urban Growth Area                                                                                                            1 non-null      object\n",
      " 50  Public Use Microdata Area - 5% File                                                                                          1 non-null      object\n",
      " 51  Public Use Microdata Area - 1% File                                                                                          1 non-null      object\n",
      " 52  Geographic Identifier                                                                                                        2347 non-null   object\n",
      " 53  Tribal Tract                                                                                                                 1 non-null      object\n",
      " 54  Tribal Block Group                                                                                                           1 non-null      object\n",
      " 55  Area (Land)                                                                                                                  2347 non-null   object\n",
      " 56  Area (Water)                                                                                                                 2347 non-null   object\n",
      " 57  Median Household Income (In 2010 Inflation Adjusted Dollars):                                                                2316 non-null   object\n",
      " 58  Median Household Income (In 2010 Inflation Adjusted Dollars): White Alone Householder                                        2309 non-null   object\n",
      " 59  Median Household Income (In 2010 Inflation Adjusted Dollars): Black or African American Alone Householder                    1576 non-null   object\n",
      " 60  Median Household Income (In 2010 Inflation Adjusted Dollars): American Indian and Alaska Native Alone  Householder           303 non-null    object\n",
      " 61  Median Household Income (In 2010 Inflation Adjusted Dollars): Asian Alone                                                    1902 non-null   object\n",
      " 62  Median Household Income (In 2010 Inflation Adjusted Dollars): Native Hawaiian and Other Pacific Islander Alone  Householder  58 non-null     object\n",
      " 63  Median Household Income (In 2010 Inflation Adjusted Dollars): Some Other Race Alone Householder                              2094 non-null   object\n",
      " 64  Median Household Income (In 2010 Inflation Adjusted Dollars): Two or More Races Householder                                  1304 non-null   object\n",
      " 65  Median Household Income (In 2010 Inflation Adjusted Dollars): Hispanic or Latino Householder                                 2273 non-null   object\n",
      " 66  Median Household Income (In 2010 Inflation Adjusted Dollars): White Alone Householder, Not Hispanic or Latino                2058 non-null   object\n",
      "dtypes: object(67)\n",
      "memory usage: 1.2+ MB\n"
     ]
    }
   ],
   "source": [
    "df.info() "
   ]
  },
  {
   "cell_type": "code",
   "execution_count": 8,
   "id": "joint-graduation",
   "metadata": {},
   "outputs": [
    {
     "data": {
      "text/plain": [
       "(2347, 67)"
      ]
     },
     "execution_count": 8,
     "metadata": {},
     "output_type": "execute_result"
    }
   ],
   "source": [
    "df.shape"
   ]
  },
  {
   "cell_type": "code",
   "execution_count": 9,
   "id": "younger-fraction",
   "metadata": {},
   "outputs": [
    {
     "data": {
      "text/plain": [
       "['FIPS',\n",
       " 'Name of Area',\n",
       " 'Qualifying Name',\n",
       " 'State/U.S.-Abbreviation (USPS)',\n",
       " 'Summary Level',\n",
       " 'Geographic Component',\n",
       " 'File Identification',\n",
       " 'Logical Record Number',\n",
       " 'US',\n",
       " 'Region',\n",
       " 'Division',\n",
       " 'State (Census Code)',\n",
       " 'State (FIPS)',\n",
       " 'County',\n",
       " 'County Subdivision (FIPS)',\n",
       " 'Place (FIPS Code)',\n",
       " 'Place (State FIPS + Place FIPS)',\n",
       " 'Census Tract',\n",
       " 'Block Group',\n",
       " 'Consolidated City',\n",
       " 'American Indian Area/Alaska Native Area/Hawaiian Home Land (Census)',\n",
       " 'American Indian Area/Alaska Native Area/Hawaiian Home Land (FIPS)',\n",
       " 'American Indian Trust Land/Hawaiian Home Land Indicator',\n",
       " 'American Indian Tribal Subdivision (Census)',\n",
       " 'American Indian Tribal Subdivision (FIPS)',\n",
       " 'Alaska Native Regional Corporation (FIPS)',\n",
       " 'Metropolitan and Micropolitan Statistical Area',\n",
       " 'Combined Statistical Area',\n",
       " 'Metropolitan Division',\n",
       " 'Metropolitan Area Central City',\n",
       " 'Metropolitan/Micropolitan Indicator Flag',\n",
       " 'New England City and Town Combined Statistical Area',\n",
       " 'New England City and Town Area',\n",
       " 'New England City and Town Area Division',\n",
       " 'Urban Area',\n",
       " 'Urban Area Central Place',\n",
       " 'Current Congressional District ***',\n",
       " 'State Legislative District Upper',\n",
       " 'State Legislative District Lower',\n",
       " 'Voting District',\n",
       " 'ZIP Code Tabulation Area (3-digit)',\n",
       " 'ZIP Code Tabulation Area (5-digit)',\n",
       " 'Subbarrio (FIPS)',\n",
       " 'School District (Elementary)',\n",
       " 'School District (Secondary)',\n",
       " 'School District (Unified)',\n",
       " 'Urban/Rural',\n",
       " 'Principal City Indicator',\n",
       " 'Traffic Analysis Zone',\n",
       " 'Urban Growth Area',\n",
       " 'Public Use Microdata Area - 5% File',\n",
       " 'Public Use Microdata Area - 1% File',\n",
       " 'Geographic Identifier',\n",
       " 'Tribal Tract',\n",
       " 'Tribal Block Group',\n",
       " 'Area (Land)',\n",
       " 'Area (Water)',\n",
       " 'Median Household Income (In 2010 Inflation Adjusted Dollars):',\n",
       " 'Median Household Income (In 2010 Inflation Adjusted Dollars): White Alone Householder',\n",
       " 'Median Household Income (In 2010 Inflation Adjusted Dollars): Black or African American Alone Householder',\n",
       " 'Median Household Income (In 2010 Inflation Adjusted Dollars): American Indian and Alaska Native Alone  Householder',\n",
       " 'Median Household Income (In 2010 Inflation Adjusted Dollars): Asian Alone',\n",
       " 'Median Household Income (In 2010 Inflation Adjusted Dollars): Native Hawaiian and Other Pacific Islander Alone  Householder',\n",
       " 'Median Household Income (In 2010 Inflation Adjusted Dollars): Some Other Race Alone Householder',\n",
       " 'Median Household Income (In 2010 Inflation Adjusted Dollars): Two or More Races Householder',\n",
       " 'Median Household Income (In 2010 Inflation Adjusted Dollars): Hispanic or Latino Householder',\n",
       " 'Median Household Income (In 2010 Inflation Adjusted Dollars): White Alone Householder, Not Hispanic or Latino']"
      ]
     },
     "execution_count": 9,
     "metadata": {},
     "output_type": "execute_result"
    }
   ],
   "source": [
    "columns = list(df) # this is the same as df.columns.to_list()\n",
    "columns"
   ]
  },
  {
   "cell_type": "code",
   "execution_count": 10,
   "id": "extreme-brazilian",
   "metadata": {},
   "outputs": [],
   "source": [
    "columns_to_keep = ['FIPS',\n",
    "                     'Name of Area',\n",
    "                     'Qualifying Name',\n",
    "                     'State (FIPS)',\n",
    "                     'County',\n",
    "                     'Median Household Income (In 2010 Inflation Adjusted Dollars):',\n",
    "                     'Median Household Income (In 2010 Inflation Adjusted Dollars): White Alone Householder',\n",
    "                     'Median Household Income (In 2010 Inflation Adjusted Dollars): Black or African American Alone Householder',\n",
    "                     'Median Household Income (In 2010 Inflation Adjusted Dollars): American Indian and Alaska Native Alone  Householder',\n",
    "                     'Median Household Income (In 2010 Inflation Adjusted Dollars): Asian Alone',\n",
    "                     'Median Household Income (In 2010 Inflation Adjusted Dollars): Native Hawaiian and Other Pacific Islander Alone  Householder',\n",
    "                     'Median Household Income (In 2010 Inflation Adjusted Dollars): Some Other Race Alone Householder',\n",
    "                     'Median Household Income (In 2010 Inflation Adjusted Dollars): Two or More Races Householder',\n",
    "                     'Median Household Income (In 2010 Inflation Adjusted Dollars): Hispanic or Latino Householder',]\n",
    " \n",
    "\n",
    " "
   ]
  },
  {
   "cell_type": "code",
   "execution_count": 11,
   "id": "valuable-comparative",
   "metadata": {},
   "outputs": [],
   "source": [
    "df = df[columns_to_keep]"
   ]
  },
  {
   "cell_type": "code",
   "execution_count": 12,
   "id": "boolean-style",
   "metadata": {},
   "outputs": [],
   "source": [
    "df.columns = ['FIPS',\n",
    "             'Name of Area',\n",
    "             'Qualifying Name',\n",
    "             'State (FIPS)',\n",
    "             'County',\n",
    "             'Median Income',\n",
    "             'Median Income White',\n",
    "             'Median Income Black',\n",
    "             'Median Income AIANA',\n",
    "             'Median Income Asian',\n",
    "             'Median Income NHPI',\n",
    "             'Median Income Some Other Race',\n",
    "             'Median Income Two or More Races',\n",
    "             'Median Income Latino']\n",
    "\n"
   ]
  },
  {
   "cell_type": "code",
   "execution_count": 13,
   "id": "exempt-korean",
   "metadata": {},
   "outputs": [],
   "source": [
    "pd.set_option('display.max_columns', None)\n",
    "pd.set_option('display.max_rows', None)"
   ]
  },
  {
   "cell_type": "code",
   "execution_count": 14,
   "id": "quantitative-briefing",
   "metadata": {},
   "outputs": [],
   "source": [
    "df['Median Income'] = pd.to_numeric(df['Median Income'], errors='coerce').fillna(0)\n",
    "df['Median Income'] = df['Median Income'].astype(np.int64)\n",
    "df['Median Income White'] = pd.to_numeric(df['Median Income White'], errors='coerce').fillna(0)\n",
    "df['Median Income White'] = df['Median Income White'].astype(np.int64)\n",
    "df['Median Income Black'] = pd.to_numeric(df['Median Income Black'], errors='coerce').fillna(0)\n",
    "df['Median Income Black'] = df['Median Income Black'].astype(np.int64)\n",
    "df['Median Income AIANA'] = pd.to_numeric(df['Median Income AIANA'], errors='coerce').fillna(0)\n",
    "df['Median Income AIANA'] = df['Median Income AIANA'].astype(np.int64)\n",
    "df['Median Income Asian'] = pd.to_numeric(df['Median Income Asian'], errors='coerce').fillna(0)\n",
    "df['Median Income Asian'] = df['Median Income Asian'].astype(np.int64)\n",
    "df['Median Income NHPI'] = pd.to_numeric(df['Median Income NHPI'], errors='coerce').fillna(0)\n",
    "df['Median Income NHPI'] = df['Median Income NHPI'].astype(np.int64)\n",
    "df['Median Income Some Other Race'] = pd.to_numeric(df['Median Income Some Other Race'], errors='coerce').fillna(0)\n",
    "df['Median Income Some Other Race'] = df['Median Income Some Other Race'].astype(np.int64)\n",
    "df['Median Income Two or More Races'] = pd.to_numeric(df['Median Income Two or More Races'], errors='coerce').fillna(0)\n",
    "df['Median Income Two or More Races'] = df['Median Income Two or More Races'].astype(np.int64)\n",
    "df['Median Income Latino'] = pd.to_numeric(df['Median Income Latino'], errors='coerce').fillna(0)\n",
    "df['Median Income Latino'] = df['Median Income Latino'].astype(np.int64)"
   ]
  },
  {
   "cell_type": "code",
   "execution_count": 15,
   "id": "transparent-province",
   "metadata": {
    "scrolled": true
   },
   "outputs": [],
   "source": [
    "df['Percent Median Income White'] = df['Median Income White']/df['Median Income']*100\n",
    "df['Percent Median Income Black'] = df['Median Income Black']/df['Median Income']*100\n",
    "df['Percent Median Income AIANA'] = df['Median Income AIANA']/df['Median Income']*100\n",
    "df['Percent Median Income Asian'] = df['Median Income Asian']/df['Median Income']*100\n",
    "df['Percent Median Income NHPI'] = df['Median Income NHPI']/df['Median Income']*100\n",
    "df['Percent Median Income Some Other Race'] = df['Median Income Some Other Race']/df['Median Income']*100\n",
    "df['Percent Median Income Two or More Races'] = df['Median Income Two or More Races']/df['Median Income']*100\n",
    "df['Percent Median Income Latino'] = df['Median Income Latino']/df['Median Income']*100"
   ]
  },
  {
   "cell_type": "code",
   "execution_count": 18,
   "id": "handled-aluminum",
   "metadata": {
    "scrolled": true
   },
   "outputs": [
    {
     "data": {
      "text/html": [
       "<div>\n",
       "<style scoped>\n",
       "    .dataframe tbody tr th:only-of-type {\n",
       "        vertical-align: middle;\n",
       "    }\n",
       "\n",
       "    .dataframe tbody tr th {\n",
       "        vertical-align: top;\n",
       "    }\n",
       "\n",
       "    .dataframe thead th {\n",
       "        text-align: right;\n",
       "    }\n",
       "</style>\n",
       "<table border=\"1\" class=\"dataframe\">\n",
       "  <thead>\n",
       "    <tr style=\"text-align: right;\">\n",
       "      <th></th>\n",
       "      <th>FIPS</th>\n",
       "      <th>Name of Area</th>\n",
       "      <th>Qualifying Name</th>\n",
       "      <th>State (FIPS)</th>\n",
       "      <th>County</th>\n",
       "      <th>Median Income</th>\n",
       "      <th>Median Income White</th>\n",
       "      <th>Median Income Black</th>\n",
       "      <th>Median Income AIANA</th>\n",
       "      <th>Median Income Asian</th>\n",
       "      <th>Median Income NHPI</th>\n",
       "      <th>Median Income Some Other Race</th>\n",
       "      <th>Median Income Two or More Races</th>\n",
       "      <th>Median Income Latino</th>\n",
       "      <th>Percent Median Income White</th>\n",
       "      <th>Percent Median Income Black</th>\n",
       "      <th>Percent Median Income AIANA</th>\n",
       "      <th>Percent Median Income Asian</th>\n",
       "      <th>Percent Median Income NHPI</th>\n",
       "      <th>Percent Median Income Some Other Race</th>\n",
       "      <th>Percent Median Income Two or More Races</th>\n",
       "      <th>Percent Median Income Latino</th>\n",
       "    </tr>\n",
       "  </thead>\n",
       "  <tbody>\n",
       "    <tr>\n",
       "      <th>0</th>\n",
       "      <td>Geo_FIPS</td>\n",
       "      <td>Geo_NAME</td>\n",
       "      <td>Geo_QName</td>\n",
       "      <td>Geo_STATE</td>\n",
       "      <td>Geo_COUNTY</td>\n",
       "      <td>0</td>\n",
       "      <td>0</td>\n",
       "      <td>0</td>\n",
       "      <td>0</td>\n",
       "      <td>0</td>\n",
       "      <td>0</td>\n",
       "      <td>0</td>\n",
       "      <td>0</td>\n",
       "      <td>0</td>\n",
       "      <td>NaN</td>\n",
       "      <td>NaN</td>\n",
       "      <td>NaN</td>\n",
       "      <td>NaN</td>\n",
       "      <td>NaN</td>\n",
       "      <td>NaN</td>\n",
       "      <td>NaN</td>\n",
       "      <td>NaN</td>\n",
       "    </tr>\n",
       "    <tr>\n",
       "      <th>1</th>\n",
       "      <td>06037101110</td>\n",
       "      <td>Census Tract 1011.10, Los Angeles County, Cali...</td>\n",
       "      <td>Census Tract 1011.10, Los Angeles County, Cali...</td>\n",
       "      <td>06</td>\n",
       "      <td>037</td>\n",
       "      <td>51641</td>\n",
       "      <td>52148</td>\n",
       "      <td>0</td>\n",
       "      <td>0</td>\n",
       "      <td>26650</td>\n",
       "      <td>0</td>\n",
       "      <td>50966</td>\n",
       "      <td>250001</td>\n",
       "      <td>43409</td>\n",
       "      <td>100.981778</td>\n",
       "      <td>0.000000</td>\n",
       "      <td>0.0</td>\n",
       "      <td>51.606282</td>\n",
       "      <td>0.0</td>\n",
       "      <td>98.692899</td>\n",
       "      <td>484.113398</td>\n",
       "      <td>84.059178</td>\n",
       "    </tr>\n",
       "    <tr>\n",
       "      <th>2</th>\n",
       "      <td>06037101122</td>\n",
       "      <td>Census Tract 1011.22, Los Angeles County, Cali...</td>\n",
       "      <td>Census Tract 1011.22, Los Angeles County, Cali...</td>\n",
       "      <td>06</td>\n",
       "      <td>037</td>\n",
       "      <td>80489</td>\n",
       "      <td>79875</td>\n",
       "      <td>0</td>\n",
       "      <td>0</td>\n",
       "      <td>81766</td>\n",
       "      <td>0</td>\n",
       "      <td>4005</td>\n",
       "      <td>150083</td>\n",
       "      <td>13523</td>\n",
       "      <td>99.237163</td>\n",
       "      <td>0.000000</td>\n",
       "      <td>0.0</td>\n",
       "      <td>101.586552</td>\n",
       "      <td>0.0</td>\n",
       "      <td>4.975835</td>\n",
       "      <td>186.463989</td>\n",
       "      <td>16.801054</td>\n",
       "    </tr>\n",
       "    <tr>\n",
       "      <th>3</th>\n",
       "      <td>06037101210</td>\n",
       "      <td>Census Tract 1012.10, Los Angeles County, Cali...</td>\n",
       "      <td>Census Tract 1012.10, Los Angeles County, Cali...</td>\n",
       "      <td>06</td>\n",
       "      <td>037</td>\n",
       "      <td>39433</td>\n",
       "      <td>37372</td>\n",
       "      <td>110556</td>\n",
       "      <td>0</td>\n",
       "      <td>52306</td>\n",
       "      <td>0</td>\n",
       "      <td>50528</td>\n",
       "      <td>0</td>\n",
       "      <td>34698</td>\n",
       "      <td>94.773413</td>\n",
       "      <td>280.364162</td>\n",
       "      <td>0.0</td>\n",
       "      <td>132.645246</td>\n",
       "      <td>0.0</td>\n",
       "      <td>128.136333</td>\n",
       "      <td>0.000000</td>\n",
       "      <td>87.992291</td>\n",
       "    </tr>\n",
       "    <tr>\n",
       "      <th>4</th>\n",
       "      <td>06037101220</td>\n",
       "      <td>Census Tract 1012.20, Los Angeles County, Cali...</td>\n",
       "      <td>Census Tract 1012.20, Los Angeles County, Cali...</td>\n",
       "      <td>06</td>\n",
       "      <td>037</td>\n",
       "      <td>45687</td>\n",
       "      <td>44856</td>\n",
       "      <td>0</td>\n",
       "      <td>0</td>\n",
       "      <td>52333</td>\n",
       "      <td>0</td>\n",
       "      <td>45078</td>\n",
       "      <td>0</td>\n",
       "      <td>44970</td>\n",
       "      <td>98.181102</td>\n",
       "      <td>0.000000</td>\n",
       "      <td>0.0</td>\n",
       "      <td>114.546808</td>\n",
       "      <td>0.0</td>\n",
       "      <td>98.667017</td>\n",
       "      <td>0.000000</td>\n",
       "      <td>98.430626</td>\n",
       "    </tr>\n",
       "  </tbody>\n",
       "</table>\n",
       "</div>"
      ],
      "text/plain": [
       "          FIPS                                       Name of Area  \\\n",
       "0     Geo_FIPS                                           Geo_NAME   \n",
       "1  06037101110  Census Tract 1011.10, Los Angeles County, Cali...   \n",
       "2  06037101122  Census Tract 1011.22, Los Angeles County, Cali...   \n",
       "3  06037101210  Census Tract 1012.10, Los Angeles County, Cali...   \n",
       "4  06037101220  Census Tract 1012.20, Los Angeles County, Cali...   \n",
       "\n",
       "                                     Qualifying Name State (FIPS)      County  \\\n",
       "0                                          Geo_QName    Geo_STATE  Geo_COUNTY   \n",
       "1  Census Tract 1011.10, Los Angeles County, Cali...           06         037   \n",
       "2  Census Tract 1011.22, Los Angeles County, Cali...           06         037   \n",
       "3  Census Tract 1012.10, Los Angeles County, Cali...           06         037   \n",
       "4  Census Tract 1012.20, Los Angeles County, Cali...           06         037   \n",
       "\n",
       "   Median Income  Median Income White  Median Income Black  \\\n",
       "0              0                    0                    0   \n",
       "1          51641                52148                    0   \n",
       "2          80489                79875                    0   \n",
       "3          39433                37372               110556   \n",
       "4          45687                44856                    0   \n",
       "\n",
       "   Median Income AIANA  Median Income Asian  Median Income NHPI  \\\n",
       "0                    0                    0                   0   \n",
       "1                    0                26650                   0   \n",
       "2                    0                81766                   0   \n",
       "3                    0                52306                   0   \n",
       "4                    0                52333                   0   \n",
       "\n",
       "   Median Income Some Other Race  Median Income Two or More Races  \\\n",
       "0                              0                                0   \n",
       "1                          50966                           250001   \n",
       "2                           4005                           150083   \n",
       "3                          50528                                0   \n",
       "4                          45078                                0   \n",
       "\n",
       "   Median Income Latino  Percent Median Income White  \\\n",
       "0                     0                          NaN   \n",
       "1                 43409                   100.981778   \n",
       "2                 13523                    99.237163   \n",
       "3                 34698                    94.773413   \n",
       "4                 44970                    98.181102   \n",
       "\n",
       "   Percent Median Income Black  Percent Median Income AIANA  \\\n",
       "0                          NaN                          NaN   \n",
       "1                     0.000000                          0.0   \n",
       "2                     0.000000                          0.0   \n",
       "3                   280.364162                          0.0   \n",
       "4                     0.000000                          0.0   \n",
       "\n",
       "   Percent Median Income Asian  Percent Median Income NHPI  \\\n",
       "0                          NaN                         NaN   \n",
       "1                    51.606282                         0.0   \n",
       "2                   101.586552                         0.0   \n",
       "3                   132.645246                         0.0   \n",
       "4                   114.546808                         0.0   \n",
       "\n",
       "   Percent Median Income Some Other Race  \\\n",
       "0                                    NaN   \n",
       "1                              98.692899   \n",
       "2                               4.975835   \n",
       "3                             128.136333   \n",
       "4                              98.667017   \n",
       "\n",
       "   Percent Median Income Two or More Races  Percent Median Income Latino  \n",
       "0                                      NaN                           NaN  \n",
       "1                               484.113398                     84.059178  \n",
       "2                               186.463989                     16.801054  \n",
       "3                                 0.000000                     87.992291  \n",
       "4                                 0.000000                     98.430626  "
      ]
     },
     "execution_count": 18,
     "metadata": {},
     "output_type": "execute_result"
    }
   ],
   "source": [
    "df.head (5)"
   ]
  },
  {
   "cell_type": "code",
   "execution_count": 19,
   "id": "graduate-royalty",
   "metadata": {},
   "outputs": [],
   "source": [
    "df = df.drop([0])"
   ]
  },
  {
   "cell_type": "code",
   "execution_count": 20,
   "id": "knowing-harassment",
   "metadata": {},
   "outputs": [
    {
     "data": {
      "text/plain": [
       "FIPS                                        object\n",
       "Name of Area                                object\n",
       "Qualifying Name                             object\n",
       "State (FIPS)                                object\n",
       "County                                      object\n",
       "Median Income                                int64\n",
       "Median Income White                          int64\n",
       "Median Income Black                          int64\n",
       "Median Income AIANA                          int64\n",
       "Median Income Asian                          int64\n",
       "Median Income NHPI                           int64\n",
       "Median Income Some Other Race                int64\n",
       "Median Income Two or More Races              int64\n",
       "Median Income Latino                         int64\n",
       "Percent Median Income White                float64\n",
       "Percent Median Income Black                float64\n",
       "Percent Median Income AIANA                float64\n",
       "Percent Median Income Asian                float64\n",
       "Percent Median Income NHPI                 float64\n",
       "Percent Median Income Some Other Race      float64\n",
       "Percent Median Income Two or More Races    float64\n",
       "Percent Median Income Latino               float64\n",
       "dtype: object"
      ]
     },
     "execution_count": 20,
     "metadata": {},
     "output_type": "execute_result"
    }
   ],
   "source": [
    "df.dtypes"
   ]
  },
  {
   "cell_type": "code",
   "execution_count": 27,
   "id": "tender-smooth",
   "metadata": {},
   "outputs": [],
   "source": [
    "def get_histogram(column = 'Median Income White'):\n",
    "    series_to_plot=df[column]\n",
    "\n",
    "    plt.figure(figsize=(10,5))\n",
    "\n",
    "    plt.hist(series_to_plot,bins=30,color='purple')\n",
    "\n",
    "    plt.axvline(series_to_plot.mean(), color='k', linestyle='dashed', linewidth=1)\n",
    "    plt.axvline(series_to_plot.median(), color='r', linestyle='dashed', linewidth=1)\n",
    "    min_ylim, max_ylim = plt.ylim()\n",
    "    plt.text(series_to_plot.mean()*1.1, max_ylim*0.9, 'Mean: {:.2f}'.format(series_to_plot.mean()))\n",
    "    plt.text(series_to_plot.median()*1.1, max_ylim*0.8, 'Median: {:.2f}'.format(series_to_plot.median()),color='r')\n",
    "    plt.title(column + ' in Los Angeles County 2006')"
   ]
  },
  {
   "cell_type": "code",
   "execution_count": 28,
   "id": "eastern-company",
   "metadata": {},
   "outputs": [],
   "source": [
    "indicators = ['Median Income White',\n",
    "             'Median Income Black',\n",
    "             'Median Income AIANA',\n",
    "             'Median Income Asian',\n",
    "             'Median Income NHPI',\n",
    "             'Median Income Some Other Race',\n",
    "             'Median Income Two or More Races',\n",
    "             'Median Income Latino']"
   ]
  },
  {
   "cell_type": "code",
   "execution_count": 29,
   "id": "personalized-token",
   "metadata": {
    "scrolled": false
   },
   "outputs": [
    {
     "data": {
      "image/png": "[encoded data removed]",
      "text/plain": [
       "<Figure size 720x360 with 1 Axes>"
      ]
     },
     "metadata": {
      "needs_background": "light"
     },
     "output_type": "display_data"
    },
    {
     "data": {
      "image/png": "[encoded data removed]",
      "text/plain": [
       "<Figure size 720x360 with 1 Axes>"
      ]
     },
     "metadata": {
      "needs_background": "light"
     },
     "output_type": "display_data"
    },
    {
     "data": {
      "image/png": "[encoded data removed]",
      "text/plain": [
       "<Figure size 720x360 with 1 Axes>"
      ]
     },
     "metadata": {
      "needs_background": "light"
     },
     "output_type": "display_data"
    },
    {
     "data": {
      "image/png": "[encoded data removed]",
      "text/plain": [
       "<Figure size 720x360 with 1 Axes>"
      ]
     },
     "metadata": {
      "needs_background": "light"
     },
     "output_type": "display_data"
    },
    {
     "data": {
      "image/png": "[encoded data removed]",
      "text/plain": [
       "<Figure size 720x360 with 1 Axes>"
      ]
     },
     "metadata": {
      "needs_background": "light"
     },
     "output_type": "display_data"
    },
    {
     "data": {
      "image/png": "[encoded data removed]",
      "text/plain": [
       "<Figure size 720x360 with 1 Axes>"
      ]
     },
     "metadata": {
      "needs_background": "light"
     },
     "output_type": "display_data"
    },
    {
     "data": {
      "image/png": "[encoded data removed]",
      "text/plain": [
       "<Figure size 720x360 with 1 Axes>"
      ]
     },
     "metadata": {
      "needs_background": "light"
     },
     "output_type": "display_data"
    },
    {
     "data": {
      "image/png": "[encoded data removed]",
      "text/plain": [
       "<Figure size 720x360 with 1 Axes>"
      ]
     },
     "metadata": {
      "needs_background": "light"
     },
     "output_type": "display_data"
    }
   ],
   "source": [
    "for indicator in indicators:\n",
    "    get_histogram(column=indicator)"
   ]
  },
  {
   "cell_type": "code",
   "execution_count": null,
   "id": "acceptable-michael",
   "metadata": {},
   "outputs": [],
   "source": [
    "for indicator in indicators:\n",
    "    get_histogram(column=indicator)"
   ]
  },
  {
   "cell_type": "code",
   "execution_count": null,
   "id": "worth-radius",
   "metadata": {},
   "outputs": [],
   "source": []
  }
 ],
 "metadata": {
  "kernelspec": {
   "display_name": "Python 3",
   "language": "python",
   "name": "python3"
  },
  "language_info": {
   "codemirror_mode": {
    "name": "ipython",
    "version": 3
   },
   "file_extension": ".py",
   "mimetype": "text/x-python",
   "name": "python",
   "nbconvert_exporter": "python",
   "pygments_lexer": "ipython3",
   "version": "3.8.5"
  },
  "toc": {
   "base_numbering": 1,
   "nav_menu": {},
   "number_sections": true,
   "sideBar": true,
   "skip_h1_title": false,
   "title_cell": "Table of Contents",
   "title_sidebar": "Contents",
   "toc_cell": false,
   "toc_position": {},
   "toc_section_display": true,
   "toc_window_display": false
  }
 },
 "nbformat": 4,
 "nbformat_minor": 5
}
